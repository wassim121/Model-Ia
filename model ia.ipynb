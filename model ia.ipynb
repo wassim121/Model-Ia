{
 "cells": [
  {
   "cell_type": "code",
   "execution_count": 18,
   "metadata": {},
   "outputs": [
    {
     "name": "stdout",
     "output_type": "stream",
     "text": [
      "     sepal.length  sepal.width  petal.length  petal.width    variety\n",
      "0             5.1          3.5           1.4          0.2     Setosa\n",
      "1             4.9          3.0           1.4          0.2     Setosa\n",
      "2             4.7          3.2           1.3          0.2     Setosa\n",
      "3             4.6          3.1           1.5          0.2     Setosa\n",
      "4             5.0          3.6           1.4          0.2     Setosa\n",
      "..            ...          ...           ...          ...        ...\n",
      "145           6.7          3.0           5.2          2.3  Virginica\n",
      "146           6.3          2.5           5.0          1.9  Virginica\n",
      "147           6.5          3.0           5.2          2.0  Virginica\n",
      "148           6.2          3.4           5.4          2.3  Virginica\n",
      "149           5.9          3.0           5.1          1.8  Virginica\n",
      "\n",
      "[150 rows x 5 columns]\n",
      "0         Setosa\n",
      "1         Setosa\n",
      "2         Setosa\n",
      "3         Setosa\n",
      "4         Setosa\n",
      "         ...    \n",
      "145    Virginica\n",
      "146    Virginica\n",
      "147    Virginica\n",
      "148    Virginica\n",
      "149    Virginica\n",
      "Name: variety, Length: 150, dtype: object\n",
      "<class 'pandas.core.frame.DataFrame'>\n"
     ]
    },
    {
     "data": {
      "image/png": "[encoded data removed]",
      "text/plain": [
       "<Figure size 432x288 with 1 Axes>"
      ]
     },
     "metadata": {
      "needs_background": "light"
     },
     "output_type": "display_data"
    },
    {
     "data": {
      "text/plain": [
       "KNeighborsClassifier(algorithm='auto', leaf_size=30, metric='minkowski',\n",
       "                     metric_params=None, n_jobs=None, n_neighbors=3, p=2,\n",
       "                     weights='uniform')"
      ]
     },
     "execution_count": 18,
     "metadata": {},
     "output_type": "execute_result"
    }
   ],
   "source": [
    "import pandas as pd\n",
    "import matplotlib.pyplot as plt\n",
    "from sklearn.neighbors import KNeighborsClassifier as KNN\n",
    "\n",
    "data = pd.read_csv(\"C:/Users/EXTRA/Desktop/3eme/Machine_Learning/TP/iris.csv\")\n",
    "x = data.loc[:, \"petal.length\"]\n",
    "y = data.loc[:, \"petal.width\"]\n",
    "lab = data.loc[:, \"variety\"]\n",
    "print(data)\n",
    "print(data['variety'])\n",
    "print(type(data))\n",
    "plt.scatter(x[lab == \"Setosa\"], y[lab == \"Setosa\"], color='purple', label='Setosa')\n",
    "plt.scatter(x[lab == \"Verginica\"], y[lab == \"Verginica\"], color='pink', label='Verginica')\n",
    "plt.scatter(x[lab == \"Versicolor\"], y[lab == \"Versicolor\"], color='blue', label='Versicolor')\n",
    "plt.scatter(2.5, 0.75, color='yellow', label='Setosa')\n",
    "plt.legend()\n",
    "plt.show()\n",
    "d = list(zip(x, y))\n",
    "model = KNN(n_neighbors=3)  # Utilisation du paramètre correct n_neighbors\n",
    "model.fit(d, lab)\n",
    "\n"
   ]
  },
  {
   "cell_type": "code",
   "execution_count": null,
   "metadata": {},
   "outputs": [],
   "source": []
  },
  {
   "cell_type": "code",
   "execution_count": null,
   "metadata": {},
   "outputs": [],
   "source": []
  },
  {
   "cell_type": "code",
   "execution_count": 7,
   "metadata": {},
   "outputs": [
    {
     "name": "stdout",
     "output_type": "stream",
     "text": [
      "     sepal.length  sepal.width  petal.length  petal.width    variety\n",
      "0             5.1          3.5           1.4          0.2     Setosa\n",
      "1             4.9          3.0           1.4          0.2     Setosa\n",
      "2             4.7          3.2           1.3          0.2     Setosa\n",
      "3             4.6          3.1           1.5          0.2     Setosa\n",
      "4             5.0          3.6           1.4          0.2     Setosa\n",
      "..            ...          ...           ...          ...        ...\n",
      "145           6.7          3.0           5.2          2.3  Virginica\n",
      "146           6.3          2.5           5.0          1.9  Virginica\n",
      "147           6.5          3.0           5.2          2.0  Virginica\n",
      "148           6.2          3.4           5.4          2.3  Virginica\n",
      "149           5.9          3.0           5.1          1.8  Virginica\n",
      "\n",
      "[150 rows x 5 columns]\n",
      "0         Setosa\n",
      "1         Setosa\n",
      "2         Setosa\n",
      "3         Setosa\n",
      "4         Setosa\n",
      "         ...    \n",
      "145    Virginica\n",
      "146    Virginica\n",
      "147    Virginica\n",
      "148    Virginica\n",
      "149    Virginica\n",
      "Name: variety, Length: 150, dtype: object\n",
      "<class 'pandas.core.frame.DataFrame'>\n"
     ]
    },
    {
     "data": {
      "image/png": "[encoded data removed]",
      "text/plain": [
       "<Figure size 432x288 with 1 Axes>"
      ]
     },
     "metadata": {
      "needs_background": "light"
     },
     "output_type": "display_data"
    },
    {
     "data": {
      "text/plain": [
       "KNeighborsClassifier(algorithm='auto', leaf_size=30, metric='minkowski',\n",
       "                     metric_params=None, n_jobs=None, n_neighbors=3, p=2,\n",
       "                     weights='uniform')"
      ]
     },
     "execution_count": 7,
     "metadata": {},
     "output_type": "execute_result"
    }
   ],
   "source": [
    "import pandas as pd\n",
    "import matplotlib.pyplot as plt\n",
    "from sklearn.neighbors import KNeighborsClassifier as KNN\n",
    "\n",
    "data = pd.read_csv(\"C:/Users/EXTRA/Desktop/3eme/Machine_Learning/TP/iris.csv\")\n",
    "x = data.loc[:, \"petal.length\"]\n",
    "y = data.loc[:, \"petal.width\"]\n",
    "lab = data.loc[:, \"variety\"]\n",
    "print(data)\n",
    "print(data['variety'])\n",
    "print(type(data))\n",
    "plt.scatter(x[lab == \"Setosa\"], y[lab == \"Setosa\"], color='purple', label='Setosa')\n",
    "plt.scatter(x[lab == \"Verginica\"], y[lab == \"Verginica\"], color='pink', label='Verginica')\n",
    "plt.scatter(x[lab == \"Versicolor\"], y[lab == \"Versicolor\"], color='blue', label='Versicolor')\n",
    "plt.scatter(2.5, 0.75, color='yellow', label='Setosa')\n",
    "plt.legend()\n",
    "plt.show()\n",
    "d = list(zip(x, y))\n",
    "model = KNN(n_neighbors=3)  # Utilisation du paramètre correct n_neighbors\n",
    "model.fit(d, lab)\n",
    "\n"
   ]
  },
  {
   "cell_type": "code",
   "execution_count": 16,
   "metadata": {},
   "outputs": [
    {
     "name": "stdout",
     "output_type": "stream",
     "text": [
      "     sepal.length  sepal.width  petal.length  petal.width    variety\n",
      "0             5.1          3.5           1.4          0.2     Setosa\n",
      "1             4.9          3.0           1.4          0.2     Setosa\n",
      "2             4.7          3.2           1.3          0.2     Setosa\n",
      "3             4.6          3.1           1.5          0.2     Setosa\n",
      "4             5.0          3.6           1.4          0.2     Setosa\n",
      "..            ...          ...           ...          ...        ...\n",
      "145           6.7          3.0           5.2          2.3  Virginica\n",
      "146           6.3          2.5           5.0          1.9  Virginica\n",
      "147           6.5          3.0           5.2          2.0  Virginica\n",
      "148           6.2          3.4           5.4          2.3  Virginica\n",
      "149           5.9          3.0           5.1          1.8  Virginica\n",
      "\n",
      "[150 rows x 5 columns]\n",
      "0         Setosa\n",
      "1         Setosa\n",
      "2         Setosa\n",
      "3         Setosa\n",
      "4         Setosa\n",
      "         ...    \n",
      "145    Virginica\n",
      "146    Virginica\n",
      "147    Virginica\n",
      "148    Virginica\n",
      "149    Virginica\n",
      "Name: variety, Length: 150, dtype: object\n",
      "<class 'pandas.core.frame.DataFrame'>\n",
      "['Setosa']\n"
     ]
    },
    {
     "data": {
      "image/png": "[encoded data removed]",
      "text/plain": [
       "<Figure size 432x288 with 1 Axes>"
      ]
     },
     "metadata": {
      "needs_background": "light"
     },
     "output_type": "display_data"
    }
   ],
   "source": [
    "import pandas as pd\n",
    "import matplotlib.pyplot as plt\n",
    "from sklearn.neighbors import KNeighborsClassifier as KNN\n",
    "\n",
    "data = pd.read_csv(\"C:/Users/EXTRA/Desktop/3eme/Machine_Learning/TP/iris.csv\")\n",
    "x = data.loc[:, \"petal.length\"]\n",
    "y = data.loc[:, \"petal.width\"]\n",
    "lab = data.loc[:, \"variety\"]\n",
    "print(data)\n",
    "print(data['variety'])\n",
    "print(type(data))\n",
    "x = data.loc[:,\"petal.length\"]\n",
    "y = data.loc[:,\"petal.width\"]\n",
    " \n",
    "lab = data.loc[:,\"variety\"]\n",
    "plt.scatter(x[lab == \"Setosa\"],y[lab == \"Setosa\"],color='purple',label='Setosa')\n",
    "plt.legend()\n",
    "\n",
    "plt.scatter(x[lab == \"Verginica\"],y[lab == \"Verginica\"],color='pink',label='Verginica')\n",
    "plt.legend()\n",
    "\n",
    "plt.scatter(x[lab == \"Versicolor\"],y[lab == \"Versicolor\"],color='b',label='Versicolor')\n",
    "plt.legend()\n",
    "\n",
    "plt.scatter(2.5,0.75,color='y',label='Setosa')\n",
    "\n",
    "\n",
    "\n",
    "plt.scatter(2.5,0.75,color='k')\n",
    "d=list(zip(x,y))\n",
    "modele=KNN(n_neighbors=3)\n",
    "modele.fit(d,lab)\n",
    "prediction =model.predict([[2.5,0.75]])\n",
    "\n",
    "print(prediction)\n",
    "plt.text(3,0.1,prediction)\n",
    "plt.scatter(x[lab == 'Setosa'],y[lab == 'Setosa'],color='g',label='Setosa')\n",
    "plt.scatter(x[lab == 'virginica'],y[lab == 'virginica'],color='r',label='virginica')\n",
    "plt.scatter(x[lab == 'versicolor'],y[lab == 'versicolor'],color='b',label='versicolor')\n",
    "plt.show()"
   ]
  },
  {
   "cell_type": "code",
   "execution_count": 8,
   "metadata": {},
   "outputs": [
    {
     "data": {
      "text/html": [
       "<div>\n",
       "<style scoped>\n",
       "    .dataframe tbody tr th:only-of-type {\n",
       "        vertical-align: middle;\n",
       "    }\n",
       "\n",
       "    .dataframe tbody tr th {\n",
       "        vertical-align: top;\n",
       "    }\n",
       "\n",
       "    .dataframe thead th {\n",
       "        text-align: right;\n",
       "    }\n",
       "</style>\n",
       "<table border=\"1\" class=\"dataframe\">\n",
       "  <thead>\n",
       "    <tr style=\"text-align: right;\">\n",
       "      <th></th>\n",
       "      <th>Unnamed: 0</th>\n",
       "      <th>title</th>\n",
       "      <th>text</th>\n",
       "      <th>label</th>\n",
       "    </tr>\n",
       "  </thead>\n",
       "  <tbody>\n",
       "    <tr>\n",
       "      <td>0</td>\n",
       "      <td>8476</td>\n",
       "      <td>You Can Smell Hillary’s Fear</td>\n",
       "      <td>Daniel Greenfield, a Shillman Journalism Fello...</td>\n",
       "      <td>FAKE</td>\n",
       "    </tr>\n",
       "    <tr>\n",
       "      <td>1</td>\n",
       "      <td>10294</td>\n",
       "      <td>Watch The Exact Moment Paul Ryan Committed Pol...</td>\n",
       "      <td>Google Pinterest Digg Linkedin Reddit Stumbleu...</td>\n",
       "      <td>FAKE</td>\n",
       "    </tr>\n",
       "    <tr>\n",
       "      <td>2</td>\n",
       "      <td>3608</td>\n",
       "      <td>Kerry to go to Paris in gesture of sympathy</td>\n",
       "      <td>U.S. Secretary of State John F. Kerry said Mon...</td>\n",
       "      <td>REAL</td>\n",
       "    </tr>\n",
       "    <tr>\n",
       "      <td>3</td>\n",
       "      <td>10142</td>\n",
       "      <td>Bernie supporters on Twitter erupt in anger ag...</td>\n",
       "      <td>— Kaydee King (@KaydeeKing) November 9, 2016 T...</td>\n",
       "      <td>FAKE</td>\n",
       "    </tr>\n",
       "    <tr>\n",
       "      <td>4</td>\n",
       "      <td>875</td>\n",
       "      <td>The Battle of New York: Why This Primary Matters</td>\n",
       "      <td>It's primary day in New York and front-runners...</td>\n",
       "      <td>REAL</td>\n",
       "    </tr>\n",
       "  </tbody>\n",
       "</table>\n",
       "</div>"
      ],
      "text/plain": [
       "   Unnamed: 0                                              title  \\\n",
       "0        8476                       You Can Smell Hillary’s Fear   \n",
       "1       10294  Watch The Exact Moment Paul Ryan Committed Pol...   \n",
       "2        3608        Kerry to go to Paris in gesture of sympathy   \n",
       "3       10142  Bernie supporters on Twitter erupt in anger ag...   \n",
       "4         875   The Battle of New York: Why This Primary Matters   \n",
       "\n",
       "                                                text label  \n",
       "0  Daniel Greenfield, a Shillman Journalism Fello...  FAKE  \n",
       "1  Google Pinterest Digg Linkedin Reddit Stumbleu...  FAKE  \n",
       "2  U.S. Secretary of State John F. Kerry said Mon...  REAL  \n",
       "3  — Kaydee King (@KaydeeKing) November 9, 2016 T...  FAKE  \n",
       "4  It's primary day in New York and front-runners...  REAL  "
      ]
     },
     "execution_count": 8,
     "metadata": {},
     "output_type": "execute_result"
    }
   ],
   "source": [
    "import numpy as np\n",
    "import pandas as pd\n",
    "import itertools\n",
    "from sklearn.model_selection import train_test_split\n",
    "from sklearn.feature_extraction.text import TfidfVectorizer\n",
    "from sklearn.linear_model import PassiveAggressiveClassifier\n",
    "from sklearn.metrics import accuracy_score, confusion_matrix\n",
    "df=pd.read_csv('C:/Users/EXTRA/Desktop/models/fake_or_real_news.csv')\n",
    "\n",
    "df.shape\n",
    "df.head()"
   ]
  },
  {
   "cell_type": "code",
   "execution_count": 9,
   "metadata": {},
   "outputs": [
    {
     "data": {
      "text/plain": [
       "0    FAKE\n",
       "1    FAKE\n",
       "2    REAL\n",
       "3    FAKE\n",
       "4    REAL\n",
       "Name: label, dtype: object"
      ]
     },
     "execution_count": 9,
     "metadata": {},
     "output_type": "execute_result"
    }
   ],
   "source": [
    "labels=df.label\n",
    "labels.head()"
   ]
  },
  {
   "cell_type": "code",
   "execution_count": 12,
   "metadata": {},
   "outputs": [],
   "source": [
    "x_train,x_test,y_train,y_test=train_test_split(df['text'], labels, test_size=0.2, random_state=7)"
   ]
  },
  {
   "cell_type": "code",
   "execution_count": 13,
   "metadata": {},
   "outputs": [],
   "source": [
    "##Initialize a TfidfVectorizer\n",
    "tfidf_vectorizer = TfidfVectorizer(stop_words='english', max_df =0.9)\n",
    "## fit and transform train set, transform test set\n",
    "tfidf_train = tfidf_vectorizer.fit_transform(x_train)\n",
    "tfidf_test = tfidf_vectorizer.transform(x_test)"
   ]
  },
  {
   "cell_type": "code",
   "execution_count": 14,
   "metadata": {},
   "outputs": [
    {
     "name": "stdout",
     "output_type": "stream",
     "text": [
      "Accuracy: 93.13%\n"
     ]
    }
   ],
   "source": [
    "pac=PassiveAggressiveClassifier(max_iter=50)\n",
    "pac.fit(tfidf_train,y_train)\n",
    "\n",
    "#Predict on the test set and calculate accuracy\n",
    "y_pred=pac.predict(tfidf_test)\n",
    "score=accuracy_score(y_test,y_pred)\n",
    "print(f'Accuracy: {round(score*100,2)}%')"
   ]
  },
  {
   "cell_type": "code",
   "execution_count": 15,
   "metadata": {},
   "outputs": [
    {
     "name": "stdout",
     "output_type": "stream",
     "text": [
      "Texte : Cette nouvelle affirme que le vaccin contre le COVID-19 est dangereux et provoque des effets secondaires graves.\n",
      "Prédiction : FAKE\n",
      "\n",
      "Texte : Une étude récente montre que le réchauffement climatique est un mythe et n'a aucun impact sur notre planète.\n",
      "Prédiction : FAKE\n",
      "\n",
      "Texte : Une entreprise technologique de premier plan annonce le lancement d'une nouvelle application révolutionnaire.\n",
      "Prédiction : FAKE\n",
      "\n"
     ]
    }
   ],
   "source": [
    "\n",
    "new_texts = [\n",
    "    \"Cette nouvelle affirme que le vaccin contre le COVID-19 est dangereux et provoque des effets secondaires graves.\",\n",
    "    \"Une étude récente montre que le réchauffement climatique est un mythe et n'a aucun impact sur notre planète.\",\n",
    "    \"Une entreprise technologique de premier plan annonce le lancement d'une nouvelle application révolutionnaire.\"\n",
    "]\n",
    "\n",
    "# Vectorisation des nouveaux textes\n",
    "tfidf_new_texts = tfidf_vectorizer.transform(new_texts)\n",
    "\n",
    "# Prédiction des étiquettes\n",
    "predicted_labels = pac.predict(tfidf_new_texts)\n",
    "\n",
    "# Affichage des prédictions\n",
    "for text, label in zip(new_texts, predicted_labels):\n",
    "    print(f\"Texte : {text}\\nPrédiction : {label}\\n\")\n"
   ]
  },
  {
   "cell_type": "code",
   "execution_count": null,
   "metadata": {},
   "outputs": [],
   "source": []
  }
 ],
 "metadata": {
  "kernelspec": {
   "display_name": "Python 3",
   "language": "python",
   "name": "python3"
  },
  "language_info": {
   "codemirror_mode": {
    "name": "ipython",
    "version": 3
   },
   "file_extension": ".py",
   "mimetype": "text/x-python",
   "name": "python",
   "nbconvert_exporter": "python",
   "pygments_lexer": "ipython3",
   "version": "3.7.4"
  }
 },
 "nbformat": 4,
 "nbformat_minor": 2
}
